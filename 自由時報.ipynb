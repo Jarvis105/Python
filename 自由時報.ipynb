{
 "cells": [
  {
   "cell_type": "code",
   "execution_count": 78,
   "metadata": {
    "collapsed": false
   },
   "outputs": [],
   "source": [
    "#自由時報 抓財經新聞\n",
    "\n",
    "import requests\n",
    "from bs4 import BeautifulSoup as bs\n",
    "\n",
    "f = open(\"20160314.txt\",'w')#日期要更改\n",
    "\n",
    "for i in range(1,20): # 共20頁\n",
    "    res = requests.get('http://news.ltn.com.tw/list/business?page='.format(i))\n",
    "    soup = bs(res.text)\n",
    "    home = 'http://news.ltn.com.tw'\n",
    "    for i in range(0,25):\n",
    "        page = soup.select('#newslistul a')[i]['href']\n",
    "        li = home+page 　\n",
    "        f.write(li+\"\\n\")    \n",
    "        \n",
    "f.close()\n",
    "\n",
    "    "
   ]
  }
 ],
 "metadata": {
  "kernelspec": {
   "display_name": "Python 2",
   "language": "python",
   "name": "python2"
  },
  "language_info": {
   "codemirror_mode": {
    "name": "ipython",
    "version": 2
   },
   "file_extension": ".py",
   "mimetype": "text/x-python",
   "name": "python",
   "nbconvert_exporter": "python",
   "pygments_lexer": "ipython2",
   "version": "2.7.11"
  }
 },
 "nbformat": 4,
 "nbformat_minor": 0
}
