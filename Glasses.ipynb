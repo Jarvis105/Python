{
 "cells": [
  {
   "cell_type": "code",
   "execution_count": null,
   "metadata": {
    "collapsed": true
   },
   "outputs": [],
   "source": [
    "import requests\n",
    "from bs4 import BeautifulSoup as bs\n",
    "import shutil\n",
    "\n",
    "##臉型 眼鏡  搜尋工具 > 類型 > 臉部特寫(or眼鏡)\n",
    "url = 'https://www.google.com.tw/search?q=%E8%87%89%E5%9E%8B+%E7%9C%BC%E9%8F%A1&espv=2&tbas=0&tbm=isch&source=lnt&tbs=itp:face&sa=X&ved=0ahUKEwiDl53OnsrLAhXGl5QKHVcFB2UQpwUIEw&dpr=1.5&biw=1280&bih=440'\n",
    "res = requests.get(url)\n",
    "soup = BeautifulSoup(res.text) \n",
    "img = soup.select('.rg_i')\n",
    "\n",
    "f = open('E:\\img\\{}'.format(name),'wb') #啟用存檔\n",
    "imgurl.raw.decode_content = True \n",
    "shutil.copyfileobj(imgurl.raw, f)   #寫出物件到硬碟\n",
    "f.close()"
   ]
  }
 ],
 "metadata": {
  "kernelspec": {
   "display_name": "Python 2",
   "language": "python",
   "name": "python2"
  },
  "language_info": {
   "codemirror_mode": {
    "name": "ipython",
    "version": 2
   },
   "file_extension": ".py",
   "mimetype": "text/x-python",
   "name": "python",
   "nbconvert_exporter": "python",
   "pygments_lexer": "ipython2",
   "version": "2.7.11"
  }
 },
 "nbformat": 4,
 "nbformat_minor": 0
}
