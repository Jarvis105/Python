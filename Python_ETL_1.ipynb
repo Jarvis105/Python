{
 "cells": [
  {
   "cell_type": "markdown",
   "metadata": {},
   "source": [
    "## 設定POST 的Form Data"
   ]
  },
  {
   "cell_type": "code",
   "execution_count": 2,
   "metadata": {
    "collapsed": false
   },
   "outputs": [],
   "source": [
    "import requests\n",
    "\n",
    "payload = { 'method':'search', 'searchMethod':'true', 'searchTarget':'ATM',\n",
    " 'orgName':'', 'orgId':'', 'hid_1':'1',\n",
    " 'tenderName':'', 'tenderId':'', 'tenderStatus':'4,5,21,29',\n",
    " 'tenderWay':'', 'awardAnnounceStartDate':'103/04/29',\n",
    " 'awardAnnounceEndDate':'103/04/29', 'radProctrgCate':'3', \n",
    " 'proctrgCate':'3', 'tenderRange':'', 'minBudget':'',\n",
    " 'maxBudget':'', 'item':'','hid_2':'1',\n",
    " 'gottenVendorName':'', 'gottenVendorId':'', 'hid_3':'1',\n",
    " 'submitVendorName':'', 'submitVendorId':'', 'location':'',\n",
    " 'priorityCate':'', 'isReConstruct':'', 'btnQuery':'查詢' }"
   ]
  },
  {
   "cell_type": "markdown",
   "metadata": {},
   "source": [
    "## 送出Post 取得資料"
   ]
  },
  {
   "cell_type": "code",
   "execution_count": 3,
   "metadata": {
    "collapsed": false
   },
   "outputs": [],
   "source": [
    "user_post = requests.post(\"http://web.pcc.gov.tw/tps/pss/tender.do?searchMode=common&searchType=advance\", data=payload) \n",
    "response_text = user_post.text.encode('utf8')  #為何要用encode ?? 用了encode ..好像沒差別\n",
    "#print response_text"
   ]
  },
  {
   "cell_type": "markdown",
   "metadata": {},
   "source": [
    "## 如何延續Session"
   ]
  },
  {
   "cell_type": "code",
   "execution_count": 4,
   "metadata": {
    "collapsed": false
   },
   "outputs": [],
   "source": [
    "#為何需要延續Session ?? 什麼情況之下 ??\n",
    "\n",
    "rs = requests.session() \n",
    "rs_post = rs.post(\"http://web.pcc.gov.tw/tps/pss/tender.do?searchMode=common&searchType=advance\", data=payload) \n",
    "rs_get = rs.get(\"http://web.pcc.gov.tw/tps/pss/tender.do?searchMode=common&searchType=advance&searchTarget=ATM&method=search&isSpdt=&pageIndex=2\") \n",
    "response = rs_get.text.encode('utf8')\n",
    "#print response\n"
   ]
  },
  {
   "cell_type": "markdown",
   "metadata": {},
   "source": [
    "## 取得資料筆數"
   ]
  },
  {
   "cell_type": "code",
   "execution_count": 5,
   "metadata": {
    "collapsed": false
   },
   "outputs": [
    {
     "name": "stderr",
     "output_type": "stream",
     "text": [
      "D:\\Users\\alone\\Anaconda2\\lib\\site-packages\\bs4\\__init__.py:166: UserWarning: No parser was explicitly specified, so I'm using the best available HTML parser for this system (\"lxml\"). This usually isn't a problem, but if you run this code on another system, or in a different virtual environment, it may use a different parser and behave differently.\n",
      "\n",
      "To get rid of this warning, change this:\n",
      "\n",
      " BeautifulSoup([your markup])\n",
      "\n",
      "to this:\n",
      "\n",
      " BeautifulSoup([your markup], \"lxml\")\n",
      "\n",
      "  markup_type=markup_type))\n"
     ]
    }
   ],
   "source": [
    "from bs4 import BeautifulSoup\n",
    "\n",
    "user_post = rs.post(\"http://web.pcc.gov.tw/tps/pss/tender.do?searchMode=common&searchType=advance\", data=payload)\n",
    "response_text = user_post.text.encode('utf8') \n",
    "soup = BeautifulSoup(response_text) \n",
    "rec_number_element = soup.select('.T11b')[0]\n",
    "#print int(rec_number_element.text) \n",
    "rec_number = int(rec_number_element.text) \n",
    "#print rec_number"
   ]
  },
  {
   "cell_type": "markdown",
   "metadata": {},
   "source": [
    "## 將資料筆數轉換成頁數"
   ]
  },
  {
   "cell_type": "code",
   "execution_count": 6,
   "metadata": {
    "collapsed": true
   },
   "outputs": [],
   "source": [
    "#-----------------------------------------------------\n",
    "from math import ceil \n",
    "#int(ceil(float(rec_number) / 100))\n",
    "page_number = int(ceil(float(rec_number) / 100)) \n",
    "#print page_number\n"
   ]
  },
  {
   "cell_type": "markdown",
   "metadata": {},
   "source": [
    "## 字串格式化 - 使用format"
   ]
  },
  {
   "cell_type": "code",
   "execution_count": 7,
   "metadata": {
    "collapsed": false
   },
   "outputs": [
    {
     "name": "stdout",
     "output_type": "stream",
     "text": [
      "http://web.pcc.gov.tw/tps/pss/tender.do?searchMode=common&searchType=advance&searchTarget=ATM&method=search&isSpdt=&pageIndex=1\n",
      "http://web.pcc.gov.tw/tps/pss/tender.do?searchMode=common&searchType=advance&searchTarget=ATM&method=search&isSpdt=&pageIndex=2\n",
      "http://web.pcc.gov.tw/tps/pss/tender.do?searchMode=common&searchType=advance&searchTarget=ATM&method=search&isSpdt=&pageIndex=3\n",
      "http://web.pcc.gov.tw/tps/pss/tender.do?searchMode=common&searchType=advance&searchTarget=ATM&method=search&isSpdt=&pageIndex=4\n",
      "http://web.pcc.gov.tw/tps/pss/tender.do?searchMode=common&searchType=advance&searchTarget=ATM&method=search&isSpdt=&pageIndex=5\n",
      "http://web.pcc.gov.tw/tps/pss/tender.do?searchMode=common&searchType=advance&searchTarget=ATM&method=search&isSpdt=&pageIndex=6\n",
      "http://web.pcc.gov.tw/tps/pss/tender.do?searchMode=common&searchType=advance&searchTarget=ATM&method=search&isSpdt=&pageIndex=7\n",
      "http://web.pcc.gov.tw/tps/pss/tender.do?searchMode=common&searchType=advance&searchTarget=ATM&method=search&isSpdt=&pageIndex=8\n",
      "http://web.pcc.gov.tw/tps/pss/tender.do?searchMode=common&searchType=advance&searchTarget=ATM&method=search&isSpdt=&pageIndex=9\n",
      "http://web.pcc.gov.tw/tps/pss/tender.do?searchMode=common&searchType=advance&searchTarget=ATM&method=search&isSpdt=&pageIndex=10\n"
     ]
    }
   ],
   "source": [
    "page_format = \"http://web.pcc.gov.tw/tps/pss/tender.do?searchMode=common&searchType=advance&searchTarget=ATM&method=search&isSpdt=&pageIndex={0}\" \n",
    "for page in range(1, 10 + 1): \n",
    "    print page_format.format(page)\n",
    "\n",
    "#--------------------------------------------\n",
    "# 使用%\n",
    "#page_format = \"http://web.pcc.gov.tw/tps/pss/tender.do?searchMode=common&searchType=advance&searchTarget=ATM&method=search&isSpdt=&pageIndex=%d\" \n",
    "#for page in range(1, 5 + 1): \n",
    "#    print page_format%(page)\n",
    "#--------------------------------------------"
   ]
  },
  {
   "cell_type": "markdown",
   "metadata": {},
   "source": [
    "## 取得每頁標案清單的內容"
   ]
  },
  {
   "cell_type": "code",
   "execution_count": 8,
   "metadata": {
    "collapsed": true
   },
   "outputs": [],
   "source": [
    "page_format = \"http://web.pcc.gov.tw/tps/pss/tender.do?searchMode=common&searchType=advance&searchTarget=ATM&method=search&isSpdt=&pageIndex=%d\" \n",
    "for page in range(1, page_number + 1): \n",
    "    bid_list = rs.get(page_format%(page)) \n",
    "    bid_response = bid_list.text.encode('utf8')\n",
    "    #print bid_response"
   ]
  },
  {
   "cell_type": "markdown",
   "metadata": {},
   "source": [
    "## 先拿一頁做試驗"
   ]
  },
  {
   "cell_type": "code",
   "execution_count": 9,
   "metadata": {
    "collapsed": true
   },
   "outputs": [],
   "source": [
    "page_format = \"http://web.pcc.gov.tw/tps/pss/tender.do?searchMode=common&searchType=advance&searchTarget=ATM&method=search&isSpdt=&pageIndex=%d\" \n",
    "page = 1 \n",
    "bid_list = rs.get(page_format%(page)) \n",
    "bid_response = bid_list.text.encode('utf8') \n",
    "bid_soup = BeautifulSoup(bid_response) \n",
    "#print bid_response\n",
    "bid_table = bid_soup.select('#print_area')[0]\n",
    "#print bid_table"
   ]
  },
  {
   "cell_type": "markdown",
   "metadata": {},
   "source": [
    "## 去掉標頭 去掉標頭跟頁次 索引範例"
   ]
  },
  {
   "cell_type": "code",
   "execution_count": 10,
   "metadata": {
    "collapsed": false
   },
   "outputs": [
    {
     "name": "stdout",
     "output_type": "stream",
     "text": [
      "[2, 3, 4, 5]\n"
     ]
    }
   ],
   "source": [
    "bid_rows = bid_table.select('tr')[1:] \n",
    "#print bid_rows\n",
    "bid_rows = bid_table.select('tr')[1:-1] \n",
    "#print bid_rows\n",
    "ary = [1,2,3,4,5,6] \n",
    "print ary[1:-1] \n",
    "#[2,3,4,5]"
   ]
  },
  {
   "cell_type": "markdown",
   "metadata": {},
   "source": [
    "## 抓出每一列所有的連結  (重點!!!!)"
   ]
  },
  {
   "cell_type": "code",
   "execution_count": 11,
   "metadata": {
    "collapsed": false
   },
   "outputs": [],
   "source": [
    "#print bid_table\n",
    "bid_rows = bid_table.select('tr')[1:-1] \n",
    "for bid_row in bid_rows: \n",
    "    links = [tag['href']for tag in bid_row.select('a')][0]  # 為何是用tag ??????????? ...取第一個連結\n",
    "    #print links"
   ]
  },
  {
   "cell_type": "markdown",
   "metadata": {},
   "source": [
    "## 取得實際連結"
   ]
  },
  {
   "cell_type": "code",
   "execution_count": 29,
   "metadata": {
    "collapsed": false
   },
   "outputs": [],
   "source": [
    "# Test !!!!!\n",
    "\n",
    "#print bid_rows\n",
    "#for bid_row in bid_rows: \n",
    "    #link = [tag['align'] for tag in bid_row.findAll('td',{'align': True})][0]  #同時出現td align 才顯示\n",
    "    #link = [tag['align'] for tag in bid_row.findAll('td',{'align': True})][1]\n",
    "    #print link\n",
    "#--------------------------------\n",
    "\n",
    "\n",
    "#print bid_rows\n",
    "for bid_row in bid_rows: \n",
    "    link = [tag['href'] for tag in bid_row.findAll('a',{'href': True})][0]   # 為何是用True?????\n",
    "    #print link\n",
    "    link_href = \"http://web.pcc.gov.tw/tps\" + link[2:]  # [2:] 去除前面兩個字元\n",
    "    #print link_href"
   ]
  },
  {
   "cell_type": "markdown",
   "metadata": {},
   "source": [
    "## 使用urljoin"
   ]
  },
  {
   "cell_type": "code",
   "execution_count": 31,
   "metadata": {
    "collapsed": false
   },
   "outputs": [],
   "source": [
    "import urlparse\n",
    "for bid_row in bid_rows: \n",
    "    link = [tag['href'] \n",
    "      for tag in bid_row.findAll('a',{'href': True})][0] \n",
    "    link_href = urlparse.urljoin(\"http://web.pcc.gov.tw/tps/pss/tender.do?searchMode=common&searchType=advance\", link)\n",
    "    \n",
    "    #print link_href"
   ]
  },
  {
   "cell_type": "markdown",
   "metadata": {},
   "source": [
    "## 複習一下如何使用Python做檔案寫入"
   ]
  },
  {
   "cell_type": "code",
   "execution_count": 33,
   "metadata": {
    "collapsed": true
   },
   "outputs": [],
   "source": [
    "f = open(\"test.txt\", 'w') \n",
    "f.write(\"Hello World\\n\") #每次執行 都會以新的檔案 寫入..即只能ㄧ次寫入。\n",
    "f.close() "
   ]
  },
  {
   "cell_type": "markdown",
   "metadata": {},
   "source": [
    "## 將每頁標案清單的連結存入檔案"
   ]
  },
  {
   "cell_type": "code",
   "execution_count": 62,
   "metadata": {
    "collapsed": false
   },
   "outputs": [],
   "source": [
    "bid_file = open(\"bid_list.txt\",'w')\n",
    "\n",
    "#page_format ????\n",
    "page_format = \"http://web.pcc.gov.tw/tps/pss/tender.do?searchMode=common&searchType=advance&searchTarget=ATM&method=search&isSpdt=&pageIndex=%d\" \n",
    "\n",
    "for page in range(1, page_number + 1): \n",
    "    bid_list = rs.get(page_format%(page))  \n",
    "    #print bid_list  #=>reponse 200\n",
    "    bid_response = bid_list.text.encode('utf8')\n",
    "    #print bid_response\n",
    "    bid_soup = BeautifulSoup(bid_response) \n",
    "    #print bid_soup\n",
    "    \n",
    "    # Error\n",
    "        #bid_table = bid_response.select(\"#print_area\") [0] # str object has no attribute 'select'\n",
    "        #print bid_table\n",
    "        \n",
    "    bid_table = bid_soup.select(\"#print_area\") [0]\n",
    "    #print bid_table\n",
    "    bid_rows = bid_table.select('tr')[1:-1]\n",
    "    #print bid_rows\n",
    "    \n",
    "    for bid_row in bid_rows:         \n",
    "        link = [tag['href'] for tag in bid_row.select('a')][0] \n",
    "        link_href = urlparse.urljoin(\"http://web.pcc.gov.tw/tps/pss/tender.do?searchMode=common&searchType=advance\", link) \n",
    "        bid_file.write(link_href + \"\\n\") \n",
    "bid_file.close()  # 檔名為 bid_list.txt"
   ]
  },
  {
   "cell_type": "markdown",
   "metadata": {},
   "source": [
    "## 0. 引入該用的package"
   ]
  },
  {
   "cell_type": "code",
   "execution_count": 63,
   "metadata": {
    "collapsed": true
   },
   "outputs": [],
   "source": [
    "# -*- coding: utf-8 -*- \n",
    "import requests\n",
    "import urlparse \n",
    "from bs4 import BeautifulSoup \n",
    "from math import ceil"
   ]
  },
  {
   "cell_type": "markdown",
   "metadata": {},
   "source": [
    "## 1. 設定查詢條件"
   ]
  },
  {
   "cell_type": "code",
   "execution_count": 64,
   "metadata": {
    "collapsed": true
   },
   "outputs": [],
   "source": [
    "payload = { 'method':'search', 'searchMethod':'true', 'searchTarget':'ATM',\n",
    " 'orgName':'', 'orgId':'', 'hid_1':'1',\n",
    " 'tenderName':'', 'tenderId':'', 'tenderStatus':'4,5,21,29',\n",
    " 'tenderWay':'', 'awardAnnounceStartDate':'103/04/29',\n",
    " 'awardAnnounceEndDate':'103/04/29', 'radProctrgCate':'3', \n",
    " 'proctrgCate':'3', 'tenderRange':'', 'minBudget':'',\n",
    " 'maxBudget':'', 'item':'','hid_2':'1',\n",
    " 'gottenVendorName':'', 'gottenVendorId':'', 'hid_3':'1',\n",
    " 'submitVendorName':'', 'submitVendorId':'', 'location':'',\n",
    " 'priorityCate':'', 'isReConstruct':'', 'btnQuery':'查詢' }\n",
    "\n",
    "rs = requests.session() \n",
    "user_post = rs.post(\"http://web.pcc.gov.tw/tps/pss/tender.do?searchMode=common&searchType=advance\", data=payload) \n",
    "response_text = user_post.text.encode('utf8')"
   ]
  },
  {
   "cell_type": "markdown",
   "metadata": {},
   "source": [
    "## 2. 計算抓取頁數"
   ]
  },
  {
   "cell_type": "code",
   "execution_count": 65,
   "metadata": {
    "collapsed": true
   },
   "outputs": [],
   "source": [
    "\n",
    "soup = BeautifulSoup(response_text) \n",
    "rec_number_element = soup.select(\".T11b\" )[0] \n",
    "rec_number = int(rec_number_element.text)\n",
    "page_number = int(ceil(float(rec_number) / 100))"
   ]
  },
  {
   "cell_type": "markdown",
   "metadata": {},
   "source": [
    "## 3. 依每頁抓取所有標案連結 & 4. 存入每頁標案連結"
   ]
  },
  {
   "cell_type": "code",
   "execution_count": 67,
   "metadata": {
    "collapsed": true
   },
   "outputs": [],
   "source": [
    "bid_file = open(\"bid_list.txt\", 'w') \n",
    "page_format = \"http://web.pcc.gov.tw/tps/pss/tender.do?searchMode=common&searchType=advance&searchTarget=ATM&method=search&isSpdt=&pageIndex=%d\" \n",
    "for page in range(1, page_number + 1): \n",
    "    bid_list = rs.get(page_format%(page)) \n",
    "    bid_response = bid_list.text.encode('utf8') \n",
    "    bid_soup = BeautifulSoup(bid_response)\n",
    "    bid_table = bid_soup.select(\"#print_area\")[0] \n",
    "    bid_rows = bid_table.select('tr')[1:-1] \n",
    "    for bid_row in bid_rows: \n",
    "        link = [tag['href'] for tag in bid_row.select('a')][0] \n",
    "        link_href = urlparse.urljoin(\"http://web.pcc.gov.tw/tps/pss/tender.do?searchMode=common&searchType=advance\", link) \n",
    "        bid_file.write(link_href + \"\\n\") \n",
    "bid_file.close() "
   ]
  },
  {
   "cell_type": "markdown",
   "metadata": {},
   "source": [
    "## 計算總共存了多少個連結"
   ]
  },
  {
   "cell_type": "code",
   "execution_count": 68,
   "metadata": {
    "collapsed": false
   },
   "outputs": [
    {
     "name": "stdout",
     "output_type": "stream",
     "text": [
      "264\n"
     ]
    }
   ],
   "source": [
    "line_num = 0 \n",
    "f = open(\"bid_list.txt\", \"r\") \n",
    "for line in f.readlines(): \n",
    "    line_num = line_num + 1 \n",
    "print line_num \n",
    "f.close() "
   ]
  },
  {
   "cell_type": "markdown",
   "metadata": {},
   "source": [
    "## 判斷抓下來的資料筆數 是否與網頁上呈現的相同"
   ]
  },
  {
   "cell_type": "code",
   "execution_count": 69,
   "metadata": {
    "collapsed": false
   },
   "outputs": [
    {
     "name": "stdout",
     "output_type": "stream",
     "text": [
      "264\n",
      "record number on web page is equal to number of lines in file\n"
     ]
    }
   ],
   "source": [
    "soup = BeautifulSoup(response_text) \n",
    "rec_number_element = soup.select(\".T11b\" )[0] \n",
    "rec_number = int(rec_number_element.text)\n",
    "\n",
    "line_num = 0 \n",
    "f = open(\"bid_list.txt\", \"r\") \n",
    "for line in f.readlines(): \n",
    "    line_num = line_num + 1 \n",
    "print line_num \n",
    "f.close() \n",
    "\n",
    "#使用if 判斷\n",
    "if rec_number == line_num: \n",
    "    print \"record number on web page is equal to number of lines in file\""
   ]
  },
  {
   "cell_type": "markdown",
   "metadata": {},
   "source": [
    "## 使用requests.get 抓取標案細節 "
   ]
  },
  {
   "cell_type": "code",
   "execution_count": 70,
   "metadata": {
    "collapsed": true
   },
   "outputs": [],
   "source": [
    "request_get = requests.get(\"http://web.pcc.gov.tw/tps/main/pms/tps/atm/atmAwardAction.do?newEdit=false&searchMode=common&method=inquiryForPublic&pkAtmMain=51239291&tenderCaseNo=0607L1030328\") \n",
    "response = request_get.text.encode('utf8') \n",
    "#print response"
   ]
  },
  {
   "cell_type": "markdown",
   "metadata": {},
   "source": [
    "## 取得id為printArea 的區塊"
   ]
  },
  {
   "cell_type": "code",
   "execution_count": 72,
   "metadata": {
    "collapsed": true
   },
   "outputs": [],
   "source": [
    "request_get = requests.get(\"http://web.pcc.gov.tw/tps/main/pms/tps/atm/atmAwardAction.do?newEdit=false&searchMode=common&method=inquiryForPublic&pkAtmMain=51239291&tenderCaseNo=0607L1030328\") \n",
    "response = request_get.text.encode('utf8') \n",
    "soup = BeautifulSoup(response)\n",
    "printarea = soup.select('#printArea') [0]\n",
    "#print printarea"
   ]
  },
  {
   "cell_type": "markdown",
   "metadata": {},
   "source": [
    "## 網址下載完後之處理 ~ 將標案資料寫進檔案中\n",
    "## Error  資料沒寫入到檔案內...解決方法在下面.."
   ]
  },
  {
   "cell_type": "code",
   "execution_count": 87,
   "metadata": {
    "collapsed": false
   },
   "outputs": [
    {
     "ename": "TypeError",
     "evalue": "expected a string or other character buffer object",
     "output_type": "error",
     "traceback": [
      "\u001b[1;31m---------------------------------------------------------------------------\u001b[0m",
      "\u001b[1;31mTypeError\u001b[0m                                 Traceback (most recent call last)",
      "\u001b[1;32m<ipython-input-87-d3f92bcaf878>\u001b[0m in \u001b[0;36m<module>\u001b[1;34m()\u001b[0m\n\u001b[0;32m      7\u001b[0m \u001b[1;31m#print type(printarea) # class  bs4.element.Tag\u001b[0m\u001b[1;33m\u001b[0m\u001b[1;33m\u001b[0m\u001b[0m\n\u001b[0;32m      8\u001b[0m \u001b[1;33m\u001b[0m\u001b[0m\n\u001b[1;32m----> 9\u001b[1;33m \u001b[0mbid_detail\u001b[0m\u001b[1;33m.\u001b[0m\u001b[0mwrite\u001b[0m\u001b[1;33m(\u001b[0m\u001b[0mprintarea\u001b[0m\u001b[1;33m)\u001b[0m \u001b[1;31m### expected a string or other character buffer object\u001b[0m\u001b[1;33m\u001b[0m\u001b[0m\n\u001b[0m\u001b[0;32m     10\u001b[0m \u001b[0mbid_detail\u001b[0m\u001b[1;33m.\u001b[0m\u001b[0mclose\u001b[0m\u001b[1;33m(\u001b[0m\u001b[1;33m)\u001b[0m\u001b[1;33m\u001b[0m\u001b[0m\n",
      "\u001b[1;31mTypeError\u001b[0m: expected a string or other character buffer object"
     ]
    }
   ],
   "source": [
    "bid_detail = open(\"bid_detail.txt\", 'w') \n",
    "request_get = requests.get(\"http://web.pcc.gov.tw/tps/main/pms/tps/atm/atmAwardAction.do?newEdit=false&searchMode=common&method=inquiryForPublic&pkAtmMain=51239291&tenderCaseNo=0607L1030328\") \n",
    "response = request_get.text.encode('utf8')\n",
    "#print response\n",
    "soup = BeautifulSoup(response)\n",
    "printarea = soup.select('#printArea')[0]\n",
    "#print type(printarea) # class  bs4.element.Tag\n",
    "\n",
    "bid_detail.write(printarea) ### expected a string or other character buffer object\n",
    "bid_detail.close()"
   ]
  },
  {
   "cell_type": "markdown",
   "metadata": {},
   "source": [
    "## 使用prettify 將soup 抓到的tag 轉換成str"
   ]
  },
  {
   "cell_type": "code",
   "execution_count": 90,
   "metadata": {
    "collapsed": true
   },
   "outputs": [],
   "source": [
    "bid_detail = open(\"bid_detail.txt\", 'w') \n",
    "request_get = requests.get(\"http://web.pcc.gov.tw/tps/main/pms/tps/atm/atmAwardAction.do?newEdit=false&searchMode=common&method=inquiryForPublic&pkAtmMain=51239291&tenderCaseNo=0607L1030328\") \n",
    "response = request_get.text.encode('utf8') \n",
    "soup = BeautifulSoup(response)\n",
    "printarea = soup.select('#printArea') [0] \n",
    "bid_detail.write(printarea.prettify(\"utf-8\")) \n",
    "bid_detail.close()"
   ]
  },
  {
   "cell_type": "markdown",
   "metadata": {},
   "source": [
    "## 怎麼找出案號是否會重複?"
   ]
  },
  {
   "cell_type": "code",
   "execution_count": 92,
   "metadata": {
    "collapsed": false
   },
   "outputs": [
    {
     "name": "stdout",
     "output_type": "stream",
     "text": [
      "1030401\n",
      "10302\n",
      "10302\n",
      "103003\n",
      "1030415\n"
     ]
    }
   ],
   "source": [
    "case_dic = {} \n",
    "f = open(\"bid_list.txt\", \"r\") \n",
    "for line in f.readlines(): \n",
    "    rec = line.strip() \n",
    "    caseno = rec.split('tenderCaseNo=')[1] \n",
    "    if caseno not in case_dic: \n",
    "        case_dic[caseno] = 1 \n",
    "    else: \n",
    "        print caseno \n",
    "f.close()"
   ]
  },
  {
   "cell_type": "markdown",
   "metadata": {},
   "source": [
    "## 如何從url 取得這兩個值?"
   ]
  },
  {
   "cell_type": "code",
   "execution_count": 93,
   "metadata": {
    "collapsed": true
   },
   "outputs": [],
   "source": [
    "link = \"http://web.pcc.gov.tw/tps/main/pms/tps/atm/atmAwardAction.do?newEdit=false&searchMode=common&method=inquiryForPublic&pkAtmMain=51239291&tenderCaseNo=0607L1030328\" "
   ]
  },
  {
   "cell_type": "markdown",
   "metadata": {},
   "source": [
    "## 使用split"
   ]
  },
  {
   "cell_type": "code",
   "execution_count": 95,
   "metadata": {
    "collapsed": false
   },
   "outputs": [
    {
     "name": "stdout",
     "output_type": "stream",
     "text": [
      "51239291 0607L1030328\n"
     ]
    }
   ],
   "source": [
    "rear_substring = link.split(\"pkAtmMain=\")[1] \n",
    "param = rear_substring.split(\"&tenderCaseNo=\") \n",
    "pkAtmMain= param[0] \n",
    "caseno= param[1] \n",
    "print pkAtmMain,caseno "
   ]
  },
  {
   "cell_type": "markdown",
   "metadata": {},
   "source": [
    "## re.match 範例"
   ]
  },
  {
   "cell_type": "code",
   "execution_count": 97,
   "metadata": {
    "collapsed": false
   },
   "outputs": [
    {
     "name": "stdout",
     "output_type": "stream",
     "text": [
      "David Chiu\n"
     ]
    }
   ],
   "source": [
    "import re \n",
    "m = re.match(r\"(?P<FirstName>\\w+) (?P<LastName>\\w+)\", \"David Chiu\") \n",
    "print m.group(\"FirstName\"), m.group(\"LastName\") "
   ]
  },
  {
   "cell_type": "markdown",
   "metadata": {},
   "source": [
    "## 使用re.match"
   ]
  },
  {
   "cell_type": "code",
   "execution_count": 99,
   "metadata": {
    "collapsed": false
   },
   "outputs": [
    {
     "name": "stdout",
     "output_type": "stream",
     "text": [
      "51239291 0607L1030328\n"
     ]
    }
   ],
   "source": [
    "import re \n",
    "link = \"http://web.pcc.gov.tw/tps/main/pms/tps/atm/atmAwardAction.do?newEdit=false&searchMode=common&method=inquiryForPublic&pkAtmMain=51239291&tenderCaseNo=0607L1030328\" \n",
    "m = re.match(r\"([^ ]+)pkAtmMain=(?P<pkAtmMain>.+)&tenderCaseNo=(?P<tenderCaseNo>.+)\", link) \n",
    "print m.group('pkAtmMain'), m.group('tenderCaseNo')"
   ]
  },
  {
   "cell_type": "markdown",
   "metadata": {},
   "source": [
    "## 讀取bid_list.txt 依序抓出標案內容"
   ]
  },
  {
   "cell_type": "code",
   "execution_count": 100,
   "metadata": {
    "collapsed": false
   },
   "outputs": [
    {
     "ename": "IOError",
     "evalue": "[Errno 2] No such file or directory: 'gov/51239371_4197.txt'",
     "output_type": "error",
     "traceback": [
      "\u001b[1;31m---------------------------------------------------------------------------\u001b[0m",
      "\u001b[1;31mIOError\u001b[0m                                   Traceback (most recent call last)",
      "\u001b[1;32m<ipython-input-100-92f5a862fb15>\u001b[0m in \u001b[0;36m<module>\u001b[1;34m()\u001b[0m\n\u001b[0;32m     12\u001b[0m     \u001b[0msoup\u001b[0m \u001b[1;33m=\u001b[0m \u001b[0mBeautifulSoup\u001b[0m\u001b[1;33m(\u001b[0m\u001b[0mresponse\u001b[0m\u001b[1;33m)\u001b[0m\u001b[1;33m\u001b[0m\u001b[0m\n\u001b[0;32m     13\u001b[0m     \u001b[0mprintarea\u001b[0m \u001b[1;33m=\u001b[0m \u001b[0msoup\u001b[0m\u001b[1;33m.\u001b[0m\u001b[0mselect\u001b[0m\u001b[1;33m(\u001b[0m\u001b[1;34m'#printArea'\u001b[0m\u001b[1;33m)\u001b[0m\u001b[1;33m[\u001b[0m\u001b[1;36m0\u001b[0m\u001b[1;33m]\u001b[0m\u001b[1;33m\u001b[0m\u001b[0m\n\u001b[1;32m---> 14\u001b[1;33m     \u001b[0mbid_detail\u001b[0m \u001b[1;33m=\u001b[0m \u001b[0mopen\u001b[0m\u001b[1;33m(\u001b[0m\u001b[1;34m\"gov/%s.txt\"\u001b[0m\u001b[1;33m%\u001b[0m\u001b[1;33m(\u001b[0m\u001b[0mfilename\u001b[0m\u001b[1;33m)\u001b[0m\u001b[1;33m,\u001b[0m \u001b[1;34m'w'\u001b[0m\u001b[1;33m)\u001b[0m\u001b[1;33m\u001b[0m\u001b[0m\n\u001b[0m\u001b[0;32m     15\u001b[0m     \u001b[0mbid_detail\u001b[0m\u001b[1;33m.\u001b[0m\u001b[0mwrite\u001b[0m\u001b[1;33m(\u001b[0m\u001b[0mprintarea\u001b[0m \u001b[1;33m.\u001b[0m\u001b[0mprettify\u001b[0m\u001b[1;33m(\u001b[0m\u001b[1;34m\"utf-8\"\u001b[0m\u001b[1;33m)\u001b[0m\u001b[1;33m)\u001b[0m\u001b[1;33m\u001b[0m\u001b[0m\n\u001b[0;32m     16\u001b[0m     \u001b[0mbid_detail\u001b[0m\u001b[1;33m.\u001b[0m\u001b[0mclose\u001b[0m\u001b[1;33m(\u001b[0m\u001b[1;33m)\u001b[0m\u001b[1;33m\u001b[0m\u001b[0m\n",
      "\u001b[1;31mIOError\u001b[0m: [Errno 2] No such file or directory: 'gov/51239371_4197.txt'"
     ]
    }
   ],
   "source": [
    "# -*- coding: utf-8 -*- \n",
    "from bs4 import BeautifulSoup \n",
    "import re, requests \n",
    "\n",
    "bid_list = open('bid_list.txt', 'r') \n",
    "for line in bid_list.readlines(): \n",
    "    pagelink = line.strip() \n",
    "    m = re.match(r\"([^ ]+)pkAtmMain=(?P<pkAtmMain>.+)&tenderCaseNo=(?P<tenderCaseNo>.+)\", pagelink) \n",
    "    filename = \"%s_%s\"%(m.group('pkAtmMain'), m.group('tenderCaseNo')) \n",
    "    request_get = requests.get(pagelink) \n",
    "    response = request_get.text.encode('utf8') \n",
    "    soup = BeautifulSoup(response) \n",
    "    printarea = soup.select('#printArea')[0] \n",
    "    bid_detail = open(\"gov/%s.txt\"%(filename), 'w') \n",
    "    bid_detail.write(printarea .prettify(\"utf-8\")) \n",
    "    bid_detail.close() \n",
    "bid_list.close()"
   ]
  }
 ],
 "metadata": {
  "kernelspec": {
   "display_name": "Python 2",
   "language": "python",
   "name": "python2"
  },
  "language_info": {
   "codemirror_mode": {
    "name": "ipython",
    "version": 2
   },
   "file_extension": ".py",
   "mimetype": "text/x-python",
   "name": "python",
   "nbconvert_exporter": "python",
   "pygments_lexer": "ipython2",
   "version": "2.7.11"
  }
 },
 "nbformat": 4,
 "nbformat_minor": 0
}
