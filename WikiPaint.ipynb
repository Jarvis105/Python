{
 "cells": [
  {
   "cell_type": "code",
   "execution_count": 6,
   "metadata": {
    "collapsed": false
   },
   "outputs": [
    {
     "name": "stdout",
     "output_type": "stream",
     "text": [
      "[<a href=\"http://go.microsoft.com/fwlink/?LinkID=66439\">here</a>, <a href=\"http://go.microsoft.com/fwlink/?LinkID=62293&amp;IIS70Error=404,19,0x00000000,9600\">View more information \\xbb</a>]\n"
     ]
    }
   ],
   "source": [
    "import requests\n",
    "import shutil\n",
    "import time\n",
    "import json\n",
    "from bs4 import BeautifulSoup as bs\n",
    "\n",
    "\n",
    "#for i in range(1,5):\n",
    "    #url = 'http://www.wikiart.org/en/Popular-Paintings/recent/{}'.format(i)\n",
    "#url = 'http://www.wikiart.org/en/Popular-Paintings/recent/1'\n",
    "res = requests.get('http://www.wikiart.org/en/Popular-Paintings/recent/1')\n",
    "soup = bs(res.text,'lxml')\n",
    "print soup.select('a')\n",
    "\n",
    "#award_table_tr_3 = tender_table.findAll( 'tr',{'class':'award_table_tr_3'})\n",
    "\n",
    "    #res = requests.get(url, stream=True)\n",
    "    #f = open('E:/Jarvis/ProPic/test.jpg','wb')\n",
    "    #f = open('E:/Jarvis/ProPic/{}.jpg'.format(name),'wb')\n",
    "    #res.raw.decode_content = True\n",
    "    #shutil.copyfileobj(res.raw, f)\n",
    "    #time.sleep(5)\n",
    "    #f.close()"
   ]
  }
 ],
 "metadata": {
  "kernelspec": {
   "display_name": "Python 2",
   "language": "python",
   "name": "python2"
  },
  "language_info": {
   "codemirror_mode": {
    "name": "ipython",
    "version": 2
   },
   "file_extension": ".py",
   "mimetype": "text/x-python",
   "name": "python",
   "nbconvert_exporter": "python",
   "pygments_lexer": "ipython2",
   "version": "2.7.11"
  }
 },
 "nbformat": 4,
 "nbformat_minor": 0
}
