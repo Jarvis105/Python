{
 "cells": [
  {
   "cell_type": "code",
   "execution_count": 29,
   "metadata": {
    "collapsed": false
   },
   "outputs": [],
   "source": [
    "import requests\n",
    "from bs4 import BeautifulSoup as bs\n",
    "\n",
    "with open('page1-20.txt','w') as f:\n",
    "    for i in range(1,20):\n",
    "        res = requests.get('https://www.ptt.cc/bbs/Stock/index'.format(i)+'.html')\n",
    "        soup = bs(res.text)\n",
    "        homepage = 'https://www.ptt.cc'\n",
    "        for j in range(1,18):\n",
    "            li = homepage + soup.select('.r-list-container a ')[j]['href']\n",
    "            f.write(li+'\\n')"
   ]
  }
 ],
 "metadata": {
  "kernelspec": {
   "display_name": "Python 2",
   "language": "python",
   "name": "python2"
  },
  "language_info": {
   "codemirror_mode": {
    "name": "ipython",
    "version": 2
   },
   "file_extension": ".py",
   "mimetype": "text/x-python",
   "name": "python",
   "nbconvert_exporter": "python",
   "pygments_lexer": "ipython2",
   "version": "2.7.11"
  }
 },
 "nbformat": 4,
 "nbformat_minor": 0
}
