{
 "cells": [
  {
   "cell_type": "code",
   "execution_count": null,
   "metadata": {
    "collapsed": true
   },
   "outputs": [],
   "source": [
    "import requests\n",
    "import shutil\n",
    "import time\n",
    "import os\n",
    "from bs4 import BeautifulSoup as bs\n",
    "\n",
    "#os.path.isfile('test.txt') #如果不存在就返回False\n",
    "for p in range(532,833):\n",
    "    res = requests.get('http://www.ss.net.tw/query.asp?rrd=1&st01=%A1C&page={}'.format(p))\n",
    "    soup = bs(res.text,'lxml')\n",
    "    for i in range(0,14):\n",
    "        url = soup.select('img')[i]['src']\n",
    "        name = soup.select('img')[i]['src'].split('/')[-2]\n",
    "        if name != 'art' :\n",
    "            if name != 'img':\n",
    "                print url,name\n",
    "                #if url != 'art':\n",
    "                res = requests.get(url, stream=True)\n",
    "                \n",
    "                f = open('E:/Pic/{}.jpg'.format(name),'wb')\n",
    "                res.raw.decode_content = True\n",
    "                shutil.copyfileobj(res.raw, f)\n",
    "                time.sleep(2)\n",
    "                f.close()"
   ]
  }
 ],
 "metadata": {
  "kernelspec": {
   "display_name": "Python 2",
   "language": "python",
   "name": "python2"
  },
  "language_info": {
   "codemirror_mode": {
    "name": "ipython",
    "version": 2
   },
   "file_extension": ".py",
   "mimetype": "text/x-python",
   "name": "python",
   "nbconvert_exporter": "python",
   "pygments_lexer": "ipython2",
   "version": "2.7.11"
  }
 },
 "nbformat": 4,
 "nbformat_minor": 0
}
