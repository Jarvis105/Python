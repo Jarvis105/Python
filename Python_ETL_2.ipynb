{
 "cells": [
  {
   "cell_type": "markdown",
   "metadata": {},
   "source": [
    "## 正規表達式"
   ]
  },
  {
   "cell_type": "code",
   "execution_count": 1,
   "metadata": {
    "collapsed": false
   },
   "outputs": [
    {
     "name": "stdout",
     "output_type": "stream",
     "text": [
      "('david', 'largtidata')\n",
      "('david', 'largtidata.com')\n",
      "('1999', '5')\n",
      "David Chiu\n",
      "file.txt root 10.0.0.1 ./\n"
     ]
    }
   ],
   "source": [
    "import re \n",
    "m = re.match(r\"(\\w+)@(\\w+)\", \"david@largtidata.com\") \n",
    "print m.groups()\n",
    " \n",
    "m = re.match(r\"(\\w+)@([a-z.]+)\", \"david@largtidata.com\") \n",
    "print m.groups() \n",
    "\n",
    "m = re.match(r\"(\\d+)\\.(\\d+)\", \"1999.5\") \n",
    "print m.groups() \n",
    "\n",
    "m = re.match(r\"(?P<first_name>\\w+) (?P<last_name>\\w+)\", \"David Chiu\") \n",
    "print m.group('first_name'), m.group('last_name')\n",
    " \n",
    "str1 = 'scp file.txt root@10.0.0.1:./' \n",
    "m=re.search('^scp ([\\w\\.]+) (\\w+)@([\\w\\.]+):(.+)',str1) \n",
    "if m: \n",
    "    print m.group(1), m.group(2), m.group(3), m.group(4)"
   ]
  },
  {
   "cell_type": "code",
   "execution_count": 2,
   "metadata": {
    "collapsed": false
   },
   "outputs": [
    {
     "name": "stdout",
     "output_type": "stream",
     "text": [
      "('0912-345-678',)\n"
     ]
    }
   ],
   "source": [
    "import re\n",
    "str1 = \"0912-345-678\"\n",
    "str2 = \"0912-345678\"\n",
    "\n",
    "m = re.match(r\"(\\d{4}-?\\d{3}-?\\d{3})\", str1)\n",
    "print m.groups()\n",
    "#print re.match(r\"\\d{4}-?\\d{3}-?\\d{3}\", str2)"
   ]
  },
  {
   "cell_type": "markdown",
   "metadata": {},
   "source": [
    "## 使用file IO讀進資料"
   ]
  },
  {
   "cell_type": "code",
   "execution_count": null,
   "metadata": {
    "collapsed": true
   },
   "outputs": [],
   "source": [
    "# -*- coding: utf-8 -*-\n",
    "f = open('gov/51239291_0607L1030328.txt', 'r') \n",
    "#print f.read() \n",
    "f.close()"
   ]
  }
 ],
 "metadata": {
  "kernelspec": {
   "display_name": "Python 2",
   "language": "python",
   "name": "python2"
  },
  "language_info": {
   "codemirror_mode": {
    "name": "ipython",
    "version": 2
   },
   "file_extension": ".py",
   "mimetype": "text/x-python",
   "name": "python",
   "nbconvert_exporter": "python",
   "pygments_lexer": "ipython2",
   "version": "2.7.11"
  }
 },
 "nbformat": 4,
 "nbformat_minor": 0
}
